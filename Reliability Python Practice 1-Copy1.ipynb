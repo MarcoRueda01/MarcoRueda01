{
 "cells": [
  {
   "cell_type": "markdown",
   "id": "a0eefc19",
   "metadata": {},
   "source": [
    "# Exploratory Maintenance-Data Analysis for Electrical Reliability Engineering with Python \n",
    "---\n",
    "\n",
    "This article covers basic steps to explore and prepare field-maintenance data for electrical reliability analysis purposes \n",
    "\n",
    "1. A\n",
    "2. B\n",
    "3. C\n",
    "4. D"
   ]
  },
  {
   "cell_type": "markdown",
   "id": "d0c00701",
   "metadata": {},
   "source": [
    "### 1. Importing Python-Libraries"
   ]
  },
  {
   "cell_type": "code",
   "execution_count": 57,
   "id": "e94d0428",
   "metadata": {},
   "outputs": [],
   "source": [
    "import pandas as pd\n",
    "import numpy as np \n",
    "import matplotlib \n",
    "import matplotlib.pyplot as plt"
   ]
  },
  {
   "cell_type": "markdown",
   "id": "d2458bbd",
   "metadata": {},
   "source": [
    "### 2. Uploading the workorders dataset "
   ]
  },
  {
   "cell_type": "code",
   "execution_count": 62,
   "id": "cc0a0c6d",
   "metadata": {
    "scrolled": true
   },
   "outputs": [
    {
     "data": {
      "text/html": [
       "<div>\n",
       "<style scoped>\n",
       "    .dataframe tbody tr th:only-of-type {\n",
       "        vertical-align: middle;\n",
       "    }\n",
       "\n",
       "    .dataframe tbody tr th {\n",
       "        vertical-align: top;\n",
       "    }\n",
       "\n",
       "    .dataframe thead th {\n",
       "        text-align: right;\n",
       "    }\n",
       "</style>\n",
       "<table border=\"1\" class=\"dataframe\">\n",
       "  <thead>\n",
       "    <tr style=\"text-align: right;\">\n",
       "      <th></th>\n",
       "      <th>Order Type</th>\n",
       "      <th>Order</th>\n",
       "      <th>Notification</th>\n",
       "      <th>Description</th>\n",
       "      <th>...</th>\n",
       "      <th>Total sum (plan)</th>\n",
       "      <th>Total actual costs</th>\n",
       "      <th>Total planned costs</th>\n",
       "      <th>Actual start date</th>\n",
       "    </tr>\n",
       "  </thead>\n",
       "  <tbody>\n",
       "    <tr>\n",
       "      <th>0</th>\n",
       "      <td>PM05</td>\n",
       "      <td>500020290</td>\n",
       "      <td>1.01621e+08</td>\n",
       "      <td>RC901 Complete Install Artesis AnomAlert</td>\n",
       "      <td>...</td>\n",
       "      <td>0.06</td>\n",
       "      <td>0.05</td>\n",
       "      <td>0.06</td>\n",
       "      <td>2021-04-27</td>\n",
       "    </tr>\n",
       "    <tr>\n",
       "      <th>1</th>\n",
       "      <td>PM05</td>\n",
       "      <td>500021313</td>\n",
       "      <td>1.10001e+09</td>\n",
       "      <td>SZ151 DR1 Replace Drive Motor</td>\n",
       "      <td>...</td>\n",
       "      <td>25694.8</td>\n",
       "      <td>433.92</td>\n",
       "      <td>25694.8</td>\n",
       "      <td>NaT</td>\n",
       "    </tr>\n",
       "    <tr>\n",
       "      <th>2</th>\n",
       "      <td>PM05</td>\n",
       "      <td>500027679</td>\n",
       "      <td>1.10001e+09</td>\n",
       "      <td>SZ151 DRV2 Replace Gearbox</td>\n",
       "      <td>...</td>\n",
       "      <td>458879</td>\n",
       "      <td>404778</td>\n",
       "      <td>458879</td>\n",
       "      <td>NaT</td>\n",
       "    </tr>\n",
       "    <tr>\n",
       "      <th>3</th>\n",
       "      <td>PM05</td>\n",
       "      <td>500027926</td>\n",
       "      <td>1.01832e+08</td>\n",
       "      <td>CRC363 Replace Drive Shaft Assy</td>\n",
       "      <td>...</td>\n",
       "      <td>19915.1</td>\n",
       "      <td>0</td>\n",
       "      <td>19915.1</td>\n",
       "      <td>NaT</td>\n",
       "    </tr>\n",
       "    <tr>\n",
       "      <th>4</th>\n",
       "      <td>PM02</td>\n",
       "      <td>202055343</td>\n",
       "      <td>1.30007e+09</td>\n",
       "      <td>52W CRC364-EM01 Service HV Motor</td>\n",
       "      <td>...</td>\n",
       "      <td>26</td>\n",
       "      <td>25.84</td>\n",
       "      <td>26</td>\n",
       "      <td>NaT</td>\n",
       "    </tr>\n",
       "    <tr>\n",
       "      <th>...</th>\n",
       "      <td>...</td>\n",
       "      <td>...</td>\n",
       "      <td>...</td>\n",
       "      <td>...</td>\n",
       "      <td>...</td>\n",
       "      <td>...</td>\n",
       "      <td>...</td>\n",
       "      <td>...</td>\n",
       "      <td>...</td>\n",
       "    </tr>\n",
       "    <tr>\n",
       "      <th>6668</th>\n",
       "      <td>PM01</td>\n",
       "      <td>100587754</td>\n",
       "      <td>1.00629e+08</td>\n",
       "      <td>Alterative switch type SZ151</td>\n",
       "      <td>...</td>\n",
       "      <td>5196.93</td>\n",
       "      <td>5188.36</td>\n",
       "      <td>5196.93</td>\n",
       "      <td>2016-09-29</td>\n",
       "    </tr>\n",
       "    <tr>\n",
       "      <th>6669</th>\n",
       "      <td>PM01</td>\n",
       "      <td>100475142</td>\n",
       "      <td>1.00502e+08</td>\n",
       "      <td>breather dessicant to be replaced</td>\n",
       "      <td>...</td>\n",
       "      <td>200</td>\n",
       "      <td>200</td>\n",
       "      <td>200</td>\n",
       "      <td>NaT</td>\n",
       "    </tr>\n",
       "    <tr>\n",
       "      <th>6670</th>\n",
       "      <td>PM01</td>\n",
       "      <td>100605645</td>\n",
       "      <td>1.00648e+08</td>\n",
       "      <td>SZ151-DV1-Replace Noisy Pump</td>\n",
       "      <td>...</td>\n",
       "      <td>12500</td>\n",
       "      <td>12600</td>\n",
       "      <td>12500</td>\n",
       "      <td>2016-09-09</td>\n",
       "    </tr>\n",
       "    <tr>\n",
       "      <th>6671</th>\n",
       "      <td>PM01</td>\n",
       "      <td>100587176</td>\n",
       "      <td>1.00628e+08</td>\n",
       "      <td>CV461 - Replace Drive Gearbox</td>\n",
       "      <td>...</td>\n",
       "      <td>236267</td>\n",
       "      <td>247056</td>\n",
       "      <td>236267</td>\n",
       "      <td>2016-08-31</td>\n",
       "    </tr>\n",
       "    <tr>\n",
       "      <th>6672</th>\n",
       "      <td>PM01</td>\n",
       "      <td>100592137</td>\n",
       "      <td>1.00634e+08</td>\n",
       "      <td>CV801 Drv2 Gearbox. Clean &amp; Inspect</td>\n",
       "      <td>...</td>\n",
       "      <td>5360.81</td>\n",
       "      <td>4410.82</td>\n",
       "      <td>5360.81</td>\n",
       "      <td>2016-08-14</td>\n",
       "    </tr>\n",
       "  </tbody>\n",
       "</table>\n",
       "<p>6673 rows × 22 columns</p>\n",
       "</div>"
      ],
      "text/plain": [
       "     Order Type      Order  Notification                               Description  ... Total sum (plan) Total actual costs Total planned costs Actual start date\n",
       "0          PM05  500020290   1.01621e+08  RC901 Complete Install Artesis AnomAlert  ...             0.06               0.05                0.06        2021-04-27\n",
       "1          PM05  500021313   1.10001e+09             SZ151 DR1 Replace Drive Motor  ...          25694.8             433.92             25694.8               NaT\n",
       "2          PM05  500027679   1.10001e+09                SZ151 DRV2 Replace Gearbox  ...           458879             404778              458879               NaT\n",
       "3          PM05  500027926   1.01832e+08           CRC363 Replace Drive Shaft Assy  ...          19915.1                  0             19915.1               NaT\n",
       "4          PM02  202055343   1.30007e+09          52W CRC364-EM01 Service HV Motor  ...               26              25.84                  26               NaT\n",
       "...         ...        ...           ...                                       ...  ...              ...                ...                 ...               ...\n",
       "6668       PM01  100587754   1.00629e+08              Alterative switch type SZ151  ...          5196.93            5188.36             5196.93        2016-09-29\n",
       "6669       PM01  100475142   1.00502e+08         breather dessicant to be replaced  ...              200                200                 200               NaT\n",
       "6670       PM01  100605645   1.00648e+08              SZ151-DV1-Replace Noisy Pump  ...            12500              12600               12500        2016-09-09\n",
       "6671       PM01  100587176   1.00628e+08             CV461 - Replace Drive Gearbox  ...           236267             247056              236267        2016-08-31\n",
       "6672       PM01  100592137   1.00634e+08       CV801 Drv2 Gearbox. Clean & Inspect  ...          5360.81            4410.82             5360.81        2016-08-14\n",
       "\n",
       "[6673 rows x 22 columns]"
      ]
     },
     "execution_count": 62,
     "metadata": {},
     "output_type": "execute_result"
    }
   ],
   "source": [
    "df = pd.read_excel(r'/Users/mac/Library/Containers/com.microsoft.Excel/Data/Downloads/Datasets/1 Work Orders.XLSX')\n",
    "df"
   ]
  },
  {
   "cell_type": "markdown",
   "id": "72913143",
   "metadata": {},
   "source": [
    "### 3. Extracting Dataset Frame "
   ]
  },
  {
   "cell_type": "code",
   "execution_count": 20,
   "id": "cd21ce4a",
   "metadata": {},
   "outputs": [
    {
     "name": "stdout",
     "output_type": "stream",
     "text": [
      "<class 'pandas.core.frame.DataFrame'>\n",
      "RangeIndex: 6673 entries, 0 to 6672\n",
      "Data columns (total 22 columns):\n",
      " #   Column                              Non-Null Count  Dtype         \n",
      "---  ------                              --------------  -----         \n",
      " 0   Order Type                          6673 non-null   object        \n",
      " 1   Order                               6673 non-null   int64         \n",
      " 2   Notification                        6669 non-null   float64       \n",
      " 3   Description                         6673 non-null   object        \n",
      " 4   Basic start date                    6673 non-null   datetime64[ns]\n",
      " 5   Revision                            4790 non-null   object        \n",
      " 6   Sort Field                          6666 non-null   object        \n",
      " 7   Functional Location                 6673 non-null   object        \n",
      " 8   Description of functional location  6673 non-null   object        \n",
      " 9   System status                       6673 non-null   object        \n",
      " 10  Cost Center                         6673 non-null   int64         \n",
      " 11  Main Work Center                    6673 non-null   object        \n",
      " 12  Estimated costs                     6673 non-null   int64         \n",
      " 13  Work center                         0 non-null      float64       \n",
      " 14  Description of technical object     3861 non-null   object        \n",
      " 15  Equipment                           3861 non-null   float64       \n",
      " 16  Created On                          6673 non-null   datetime64[ns]\n",
      " 17  Total sum (actual)                  6673 non-null   float64       \n",
      " 18  Total sum (plan)                    6673 non-null   float64       \n",
      " 19  Total actual costs                  6673 non-null   float64       \n",
      " 20  Total planned costs                 6673 non-null   float64       \n",
      " 21  Actual start date                   3706 non-null   datetime64[ns]\n",
      "dtypes: datetime64[ns](3), float64(7), int64(3), object(9)\n",
      "memory usage: 1.1+ MB\n"
     ]
    }
   ],
   "source": [
    "df.info()"
   ]
  },
  {
   "cell_type": "markdown",
   "id": "fe882faf",
   "metadata": {},
   "source": [
    "### 4. Data Preparation\n",
    "1. Data type validation\n",
    "2. Dropping irrelevant columns\n",
    "3. Renaming Columns \n",
    "4. Duplicates Validation\n",
    "5. Null values management"
   ]
  },
  {
   "cell_type": "code",
   "execution_count": 48,
   "id": "b07f8e5e",
   "metadata": {},
   "outputs": [],
   "source": [
    "#pip install reliability\n",
    "#from reliability.Fitters import Fit_Weibull_2P\n",
    "#data = [16, 34, 53, 75, 93, 120]\n",
    "#wb = Fit_Weibull_2P(failures=data)\n",
    "#plt.show()"
   ]
  },
  {
   "cell_type": "markdown",
   "id": "45424d32",
   "metadata": {},
   "source": [
    "### 5. Detecting Outliers"
   ]
  },
  {
   "cell_type": "markdown",
   "id": "3538692f",
   "metadata": {},
   "source": [
    "### 6. Overall Plotting"
   ]
  }
 ],
 "metadata": {
  "kernelspec": {
   "display_name": "Python 3 (ipykernel)",
   "language": "python",
   "name": "python3"
  },
  "language_info": {
   "codemirror_mode": {
    "name": "ipython",
    "version": 3
   },
   "file_extension": ".py",
   "mimetype": "text/x-python",
   "name": "python",
   "nbconvert_exporter": "python",
   "pygments_lexer": "ipython3",
   "version": "3.9.12"
  }
 },
 "nbformat": 4,
 "nbformat_minor": 5
}
